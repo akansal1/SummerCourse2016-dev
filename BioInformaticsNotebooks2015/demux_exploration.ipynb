{
 "cells": [
  {
   "cell_type": "code",
   "execution_count": null,
   "metadata": {
    "collapsed": true
   },
   "outputs": [],
   "source": [
    "mkdir -p ~/scratch/analysis"
   ]
  },
  {
   "cell_type": "code",
   "execution_count": null,
   "metadata": {
    "collapsed": false
   },
   "outputs": [],
   "source": [
    "cd ~/scratch/analysis/"
   ]
  },
  {
   "cell_type": "code",
   "execution_count": null,
   "metadata": {
    "collapsed": false
   },
   "outputs": [],
   "source": [
    "ls /mnt/nfs/ngsworkshop/colab-sbx-16/raw_data/groups_KNP_run1/"
   ]
  },
  {
   "cell_type": "code",
   "execution_count": null,
   "metadata": {
    "collapsed": false
   },
   "outputs": [],
   "source": [
    "%%bash\n",
    "fastq-multx -h"
   ]
  },
  {
   "cell_type": "code",
   "execution_count": null,
   "metadata": {
    "collapsed": false
   },
   "outputs": [],
   "source": [
    "%%bash\n",
    "OUTDIR=KNP_run1_demux_bm1\n",
    "mkdir -p $OUTDIR\n",
    "fastq-multx -m1 -x -B ~/bioinf_nb_ngscourse2015/pool1_barcodes.tab \\\n",
    "    ~/raw_data/groups_KNP_run1/pool1_S1_L001_I1_001.fastq.gz \\\n",
    "    ~/raw_data/groups_KNP_run1/pool1_S1_L001_R1_001.fastq.gz \\\n",
    "    ~/raw_data/groups_KNP_run1/pool1_S1_L001_R2_001.fastq.gz \\\n",
    "    -o ${OUTDIR}/i1.%.fq.gz ${OUTDIR}/r1.%.fq.gz ${OUTDIR}/r2.%.fq.gz \\\n",
    "    > ${OUTDIR}/demux_summary.txt"
   ]
  },
  {
   "cell_type": "markdown",
   "metadata": {},
   "source": [
    "The unmatched files is pretty big.  Let's see what barcodes are showing up there."
   ]
  },
  {
   "cell_type": "code",
   "execution_count": null,
   "metadata": {
    "collapsed": false
   },
   "outputs": [],
   "source": [
    "%%bash\n",
    "zcat KNP_run1_demux_bm1/i1.unmatched.fq.gz \\\n",
    "    | sed -n '2~4p' | sort | uniq -c | sort -nr | head"
   ]
  },
  {
   "cell_type": "markdown",
   "metadata": {},
   "source": [
    "We see a large overrepresentation of \"CCGATC\"!  Why?  Did you notice the error message from `fastq-multx`?  It said \"Skipped because of distance < 2 : 136452\".  \n",
    "\n",
    "What does this mean?  \n",
    "\n",
    "Let's see if we can figure out.  We will compare \"CCGATC\" to each of the barcodes to see how many mutations it takes to get from this sequence to each of the barcodes.  In computer science, this value is know as the \"edit distance\" or \"Levenshtein distance\"."
   ]
  },
  {
   "cell_type": "code",
   "execution_count": null,
   "metadata": {
    "collapsed": false
   },
   "outputs": [],
   "source": [
    "import editdistance\n",
    "import os\n",
    "barcode_file = \"~/bioinf_nb_ngscourse2015/pool1_barcodes.tab\"\n",
    "\n",
    "distance_list = []\n",
    "for line in open(os.path.expanduser(barcode_file)):\n",
    "    label,barcode = line.split()\n",
    "    distance_list.append((editdistance.eval('CCGATC', barcode), \n",
    "                          barcode, label))\n",
    "distance_list.sort()\n",
    "for vals in distance_list:\n",
    "    print \"{0[0]} {0[1]} {0[2]}\".format(vals)"
   ]
  },
  {
   "cell_type": "markdown",
   "metadata": {},
   "source": [
    "Aha! So \"CAGATC\" has an edit distance of 1 from \"CCGATC\" - that is probably the source of most of the \"CAGATC\".  But we also see that \"CCGTCC\" has an edit distance of 2.  This is what the message \"Skipped because of distance < 2 : 136452\" meant: it observed barcodes in the data that do not match any of the sequences in the \"known barcode\" file, but have  edit distance of less (or equal to) 2 from multiple sequences in the \"known barcode\" file.  We can tell fastq-multx to be less stringent about edit distance using the \"-d\" option, which specfies \"Require a minimum distance of N between the best and next best\" - the default is 2, but we can set it to 1.\n",
    "\n",
    "This is a judgement call - probably some of those \"CAGATC\" are really \"CCGTCC\" that have two sequencing errors.  With \"-d 2\", everything with a \"CAGATC\" barcode is getting thrown away, with \"-d 1\", they will all be put in the \"CAGATC\" file.  There is no right answer!\n",
    "\n",
    "For the moment we will rerun fastq-multx with \"-d1\""
   ]
  },
  {
   "cell_type": "code",
   "execution_count": null,
   "metadata": {
    "collapsed": false
   },
   "outputs": [],
   "source": [
    "%%bash\n",
    "OUTDIR=KNP_run1_demux_bd1m1\n",
    "mkdir -p $OUTDIR\n",
    "fastq-multx -m1 -d1 -x -B ~/bioinf_nb_ngscourse2015/pool1_barcodes.tab \\\n",
    "    ~/raw_data/groups_KNP_run1/pool1_S1_L001_I1_001.fastq.gz \\\n",
    "    ~/raw_data/groups_KNP_run1/pool1_S1_L001_R1_001.fastq.gz \\\n",
    "    ~/raw_data/groups_KNP_run1/pool1_S1_L001_R2_001.fastq.gz \\\n",
    "    -o ${OUTDIR}/i1.%.fq.gz ${OUTDIR}/r1.%.fq.gz ${OUTDIR}/r2.%.fq.gz \\\n",
    "    > ${OUTDIR}/demux_summary.txt"
   ]
  }
 ],
 "metadata": {
  "kernelspec": {
   "display_name": "Python 2",
   "language": "python",
   "name": "python2"
  },
  "language_info": {
   "codemirror_mode": {
    "name": "ipython",
    "version": 2
   },
   "file_extension": ".py",
   "mimetype": "text/x-python",
   "name": "python",
   "nbconvert_exporter": "python",
   "pygments_lexer": "ipython2",
   "version": "2.7.10"
  }
 },
 "nbformat": 4,
 "nbformat_minor": 0
}
