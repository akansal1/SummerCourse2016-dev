{
 "cells": [
  {
   "cell_type": "code",
   "execution_count": null,
   "metadata": {
    "collapsed": false
   },
   "outputs": [],
   "source": [
    "%mkdir -p ~/scratch/analysis/all_data\n",
    "%cd ~/scratch/analysis/all_data\n",
    "%pwd"
   ]
  },
  {
   "cell_type": "markdown",
   "metadata": {},
   "source": [
    "Set up links to demux samples"
   ]
  },
  {
   "cell_type": "code",
   "execution_count": null,
   "metadata": {
    "collapsed": false
   },
   "outputs": [],
   "source": [
    "%%bash\n",
    "ln -s ../KNP_demux/r?.*.fq.gz .\n",
    "rm -f *unmatched.fq.gz\n",
    "ln -s ../EG_demux/r?.*.fq.gz .\n",
    "rm -f *unmatched.fq.gz"
   ]
  },
  {
   "cell_type": "code",
   "execution_count": null,
   "metadata": {
    "collapsed": false
   },
   "outputs": [],
   "source": [
    "%mkdir -p ~/scratch/analysis/results\n",
    "%cd ~/scratch/analysis/results\n",
    "%pwd"
   ]
  },
  {
   "cell_type": "code",
   "execution_count": null,
   "metadata": {
    "collapsed": false
   },
   "outputs": [],
   "source": [
    "%%bash\n",
    "mkdir -p genome\n",
    "wget --output-document genome/ecoli_w3110.fa.gz --no-verbose ftp://ftp.ncbi.nlm.nih.gov/genomes/all/GCA_000010245.1_ASM1024v1/GCA_000010245.1_ASM1024v1_genomic.fna.gz\n",
    "wget --output-document genome/ecoli_w3110.gff.gz --no-verbose ftp://ftp.ncbi.nlm.nih.gov/genomes/all/GCA_000010245.1_ASM1024v1/GCA_000010245.1_ASM1024v1_genomic.gff.gz\n",
    "\n",
    "gunzip genome/ecoli_w3110.fa.gz\n",
    "gunzip genome/ecoli_w3110.gff.gz\n",
    "\n",
    "bowtie2-build genome/ecoli_w3110.fa genome/ecoli_w3110\n",
    "\n",
    "ls genome"
   ]
  },
  {
   "cell_type": "markdown",
   "metadata": {},
   "source": [
    "###Now Everything Together!!\n",
    "We will now run all the samples, but first we need to generate an adapter file for all the samples. "
   ]
  },
  {
   "cell_type": "markdown",
   "metadata": {},
   "source": [
    "#### Generating a full adapter file\n",
    "We still need to do the copy-and-paste part from the index primer manual, but we will do the reverse complementing automatically.  Let's do that now (if you are feeling lazy, you can use the `testrun_adapters.fasta` file in the repo directory) . . .\n",
    "\n",
    "OK, now that it is out of the way, we need to install a python library that our reverse complementing script will use"
   ]
  },
  {
   "cell_type": "markdown",
   "metadata": {},
   "source": [
    "Now we can run our script.  By default it only outputs the reverse complemented sequences, but with the --both option, it will also output the original sequence."
   ]
  },
  {
   "cell_type": "code",
   "execution_count": null,
   "metadata": {
    "collapsed": true
   },
   "outputs": [],
   "source": [
    "%%bash\n",
    "~/bioinf_nb_ngscourse2015/revcomp.py \\\n",
    "    ~/bioinf_nb_ngscourse2015/all_neb_adapters.fasta \\\n",
    "    --both --output all_neb_adapters_both.fasta"
   ]
  },
  {
   "cell_type": "markdown",
   "metadata": {},
   "source": [
    "####Looping over all the samples\n",
    "Now we can put all of the previous commands into one big loop.  This is probably a good time for copying and pasting.  But we will make a few small changes.\n",
    "\n",
    "1. We will add all the barcodes the the list of barcodes to iterate over\n",
    "    * AGTCAA AGTTCC ATGTCA CCGTCC GTCCGC GTGAAA\n",
    "2. We need to remember to use our full adapter file"
   ]
  },
  {
   "cell_type": "code",
   "execution_count": null,
   "metadata": {
    "collapsed": false
   },
   "outputs": [],
   "source": [
    "%%bash\n",
    "IFS=\".\"\n",
    "# for R1 in ~/scratch/analysis/all_data/r1.*.fq.gz\n",
    "for R1 in ~/scratch/analysis/all_data/r1.7A_E.fq.gz\n",
    "    do\n",
    "        set $R1\n",
    "        BARCODE=$2\n",
    "        echo $BARCODE\n",
    "    done\n",
    "unset IFS"
   ]
  },
  {
   "cell_type": "code",
   "execution_count": null,
   "metadata": {
    "collapsed": false
   },
   "outputs": [],
   "source": [
    "%%bash\n",
    "mkdir -p trimmed\n",
    "mkdir -p th_out\n",
    "mkdir -p counts\n",
    "\n",
    "FASTQ_DIR=/home/bitnami/scratch/analysis/all_data\n",
    "\n",
    "IFS=\".\"\n",
    "# for R1 in ${FASTQ_DIR}/r1.7A_E.fq.gz\n",
    "for R1 in ${FASTQ_DIR}/r1.*.fq.gz\n",
    "    do\n",
    "        set $R1\n",
    "        BARCODE=$2\n",
    "        echo $BARCODE\n",
    "        fastq-mcf all_neb_adapters_both.fasta \\\n",
    "            ${FASTQ_DIR}/r1.${BARCODE}.fq.gz \\\n",
    "            ${FASTQ_DIR}/r2.${BARCODE}.fq.gz \\\n",
    "            -q 20 -x 0.5 \\\n",
    "            -o trimmed/r1.${BARCODE}.trim.fq.gz \\\n",
    "            -o trimmed/r2.${BARCODE}.trim.fq.gz\n",
    "            \n",
    "        mkdir -p th_out/${BARCODE}\n",
    "        tophat2 -G genome/ecoli_w3110.gff \\\n",
    "            --library-type fr-firststrand \\\n",
    "            --output-dir th_out/${BARCODE} \\\n",
    "            --max-intron-length 5 \\\n",
    "            --min-intron-length 4 \\\n",
    "            --transcriptome-max-hits 1 \\\n",
    "            --max-multihits 1 \\\n",
    "            --no-coverage-search \\\n",
    "            --no-novel-juncs \\\n",
    "            --num-threads 2 \\\n",
    "            genome/ecoli_w3110 \\\n",
    "            trimmed/r1.${BARCODE}.trim.fq.gz \\\n",
    "            trimmed/r2.${BARCODE}.trim.fq.gz\n",
    "            \n",
    "        ln th_out/${BARCODE}/accepted_hits.bam th_out/${BARCODE}.bam\n",
    "        samtools index th_out/${BARCODE}.bam\n",
    "        \n",
    "        samtools sort -n th_out/${BARCODE}/accepted_hits.bam \\\n",
    "            th_out/${BARCODE}/accepted_hits.name\n",
    "\n",
    "        htseq-count --quiet --order=name --format=bam --stranded=reverse --type=gene \\\n",
    "            --idattr=ID th_out/${BARCODE}/accepted_hits.name.bam \\\n",
    "            genome/ecoli_w3110.gff > counts/${BARCODE}.csv\n",
    "    done\n",
    "unset IFS"
   ]
  },
  {
   "cell_type": "code",
   "execution_count": null,
   "metadata": {
    "collapsed": true
   },
   "outputs": [],
   "source": []
  }
 ],
 "metadata": {
  "kernelspec": {
   "display_name": "Python 2",
   "language": "python",
   "name": "python2"
  },
  "language_info": {
   "codemirror_mode": {
    "name": "ipython",
    "version": 2
   },
   "file_extension": ".py",
   "mimetype": "text/x-python",
   "name": "python",
   "nbconvert_exporter": "python",
   "pygments_lexer": "ipython2",
   "version": "2.7.10"
  }
 },
 "nbformat": 4,
 "nbformat_minor": 0
}
