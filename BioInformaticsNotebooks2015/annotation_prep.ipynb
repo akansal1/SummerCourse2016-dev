{
 "cells": [
  {
   "cell_type": "markdown",
   "metadata": {},
   "source": [
    "####Load pandas library"
   ]
  },
  {
   "cell_type": "code",
   "execution_count": null,
   "metadata": {
    "collapsed": false
   },
   "outputs": [],
   "source": [
    "import pandas as pd\n",
    "import csv"
   ]
  },
  {
   "cell_type": "markdown",
   "metadata": {},
   "source": [
    "####Define some file names and related info"
   ]
  },
  {
   "cell_type": "code",
   "execution_count": null,
   "metadata": {
    "collapsed": false
   },
   "outputs": [],
   "source": [
    "import os\n",
    "dest = os.path.expanduser(\"~/bioinf_1/ensembl_r28.gff\")\n",
    "gff_url = \"ftp://ftp.ensemblgenomes.org/pub/bacteria/release-28/gff3/bacteria_23_collection/escherichia_coli_str_k_12_substr_w3110/Escherichia_coli_str_k_12_substr_w3110.GCA_000010245.1.28.chromosome.Chromosome.gff3.gz\"\n",
    "descript_csv = os.path.expanduser(\"~/bioinf_1/descriptions.csv\")\n",
    "id2gene_csv = os.path.expanduser(\"~/bioinf_1/id2gene.csv\")\n",
    "ncbi_gff = os.path.expanduser(\"~/bioinf_1/genome/ecoli_w3110.gff\")\n",
    "annot_csv = os.path.expanduser(\"~/bioinf_nb_ngscourse2015/annotation.csv\")"
   ]
  },
  {
   "cell_type": "markdown",
   "metadata": {},
   "source": [
    "####Download GFF from Ensembl to get descriptions"
   ]
  },
  {
   "cell_type": "code",
   "execution_count": null,
   "metadata": {
    "collapsed": false
   },
   "outputs": [],
   "source": [
    "%%bash -s \"$dest\" \"$gff_url\" \n",
    "wget -O $1.gz $2\n",
    "gunzip $1.gz"
   ]
  },
  {
   "cell_type": "markdown",
   "metadata": {},
   "source": [
    "####Parse the NCBI and Ensembl GFF files to extract annotations of interest"
   ]
  },
  {
   "cell_type": "code",
   "execution_count": null,
   "metadata": {
    "collapsed": false
   },
   "outputs": [],
   "source": [
    "%%bash -s \"$dest\" \"$descript_csv\"\n",
    "~/bioinf_nb_ngscourse2015/parse_gtf.py $1 -t gene -i Name  -v ID -v description -o $2"
   ]
  },
  {
   "cell_type": "code",
   "execution_count": null,
   "metadata": {
    "collapsed": false
   },
   "outputs": [],
   "source": [
    "%%bash -s \"$ncbi_gff\" \"$id2gene_csv\"\n",
    "~/bioinf_nb_ngscourse2015/parse_gtf.py $1 -t gene -i ID  -v Name -o $2"
   ]
  },
  {
   "cell_type": "markdown",
   "metadata": {},
   "source": [
    "####Load the extracted annotations into pandas data frames"
   ]
  },
  {
   "cell_type": "code",
   "execution_count": null,
   "metadata": {
    "collapsed": false
   },
   "outputs": [],
   "source": [
    "id2gene_df = pd.read_csv(id2gene_csv,names=(\"id\",\"gene\"))\n",
    "id2gene_df"
   ]
  },
  {
   "cell_type": "code",
   "execution_count": null,
   "metadata": {
    "collapsed": false
   },
   "outputs": [],
   "source": [
    "descript_df = pd.read_csv(descript_csv,names=(\"gene\",\"gene_id\",\"description\"))\n",
    "descript_df"
   ]
  },
  {
   "cell_type": "markdown",
   "metadata": {},
   "source": [
    "####Merge the data frames and output results"
   ]
  },
  {
   "cell_type": "code",
   "execution_count": null,
   "metadata": {
    "collapsed": false
   },
   "outputs": [],
   "source": [
    "annot_df = pd.merge(id2gene_df, descript_df, \n",
    "                    how='left', on=\"gene\",sort=False)\n",
    "# annot_df.sort(\"id\")\n",
    "annot_df.to_csv(annot_csv,index=False) #,quoting=csv.QUOTE_ALL)"
   ]
  },
  {
   "cell_type": "markdown",
   "metadata": {},
   "source": [
    "####Clean up"
   ]
  },
  {
   "cell_type": "code",
   "execution_count": null,
   "metadata": {
    "collapsed": true
   },
   "outputs": [],
   "source": [
    "%rm $descript_csv $id2gene_csv $dest"
   ]
  }
 ],
 "metadata": {
  "kernelspec": {
   "display_name": "Python 2",
   "language": "python",
   "name": "python2"
  },
  "language_info": {
   "codemirror_mode": {
    "name": "ipython",
    "version": 2
   },
   "file_extension": ".py",
   "mimetype": "text/x-python",
   "name": "python",
   "nbconvert_exporter": "python",
   "pygments_lexer": "ipython2",
   "version": "2.7.10"
  }
 },
 "nbformat": 4,
 "nbformat_minor": 0
}
