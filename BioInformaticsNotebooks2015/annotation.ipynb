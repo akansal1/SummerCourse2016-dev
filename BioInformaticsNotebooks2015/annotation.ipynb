{
 "cells": [
  {
   "cell_type": "markdown",
   "metadata": {},
   "source": [
    "###Setup\n",
    "Create working directory if it doesn't exist and cd into it"
   ]
  },
  {
   "cell_type": "code",
   "execution_count": null,
   "metadata": {
    "collapsed": false
   },
   "outputs": [],
   "source": [
    "working_dir = path.expand(\"~/bioinf_1/\")\n",
    "dir.create(working_dir, showWarnings = FALSE, recursive = FALSE)\n",
    "setwd(working_dir)\n",
    "getwd()"
   ]
  },
  {
   "cell_type": "markdown",
   "metadata": {},
   "source": [
    "###Load data and run DESeq"
   ]
  },
  {
   "cell_type": "code",
   "execution_count": null,
   "metadata": {
    "collapsed": false
   },
   "outputs": [],
   "source": [
    "library(\"DESeq2\")"
   ]
  },
  {
   "cell_type": "code",
   "execution_count": null,
   "metadata": {
    "collapsed": false
   },
   "outputs": [],
   "source": [
    "counttab.file = \"ecoli_ph_test_sampletable.csv\"\n",
    "countdir = \"counts\"\n",
    "sampleData = read.csv(counttab.file,header=TRUE,comment.char=\"#\",\n",
    "    colClasses=c(\"character\",\"character\",\"factor\",\"factor\",\"character\"))\n",
    "\n",
    "sampleTable = transform(sampleData,condition=pH)\n",
    "rownames(sampleTable) = sampleTable$sample_num\n",
    "sampleTable = sampleTable[c(\"sampleName\",\"fileName\",\"condition\",\"replicate\")]\n",
    "\n",
    "dds.ph <- DESeqDataSetFromHTSeqCount(sampleTable = sampleTable,\n",
    "                                       directory = countdir,\n",
    "                                       design= ~ condition)"
   ]
  },
  {
   "cell_type": "code",
   "execution_count": null,
   "metadata": {
    "collapsed": false
   },
   "outputs": [],
   "source": [
    "dds.ph = DESeq(dds.ph)\n",
    "dds.res = results(dds.ph)"
   ]
  },
  {
   "cell_type": "markdown",
   "metadata": {},
   "source": [
    "###Load Annotation Table"
   ]
  },
  {
   "cell_type": "code",
   "execution_count": null,
   "metadata": {
    "collapsed": false
   },
   "outputs": [],
   "source": [
    "annot.df = read.csv(\"~/bioinf_nb_ngscourse2015/annotation.csv\",\n",
    "                      header = TRUE)\n",
    "head(annot.df)"
   ]
  },
  {
   "cell_type": "markdown",
   "metadata": {},
   "source": [
    "###Merge Annotation onto Results Data Frame\n",
    "Also use \"id\" column as rowname"
   ]
  },
  {
   "cell_type": "code",
   "execution_count": null,
   "metadata": {
    "collapsed": false
   },
   "outputs": [],
   "source": [
    "res.df = as.data.frame(dds.res)\n",
    "res.df = merge(res.df,annot.df,by.x=0,by.y=\"id\")\n",
    "rownames(res.df) <- res.df[,1]\n",
    "res.df[,1] <- NULL\n",
    "head(res.df)"
   ]
  }
 ],
 "metadata": {
  "kernelspec": {
   "display_name": "R",
   "language": "R",
   "name": "ir"
  },
  "language_info": {
   "codemirror_mode": "r",
   "file_extension": ".r",
   "mimetype": "text/x-r-source",
   "name": "R",
   "pygments_lexer": "r",
   "version": "3.2.1"
  }
 },
 "nbformat": 4,
 "nbformat_minor": 0
}
