{
 "cells": [
  {
   "cell_type": "markdown",
   "metadata": {},
   "source": [
    "# Import count data using basic tools"
   ]
  },
  {
   "cell_type": "markdown",
   "metadata": {},
   "source": [
    "We want to read in the count files using more basic tools (important if the count files are not generated fro,m htseq-count). We will import the files as matrices. We start with some of the preliminary steps"
   ]
  },
  {
   "cell_type": "code",
   "execution_count": 16,
   "metadata": {
    "collapsed": true
   },
   "outputs": [],
   "source": [
    "library(tools)"
   ]
  },
  {
   "cell_type": "code",
   "execution_count": 17,
   "metadata": {
    "collapsed": true
   },
   "outputs": [],
   "source": [
    "phfile=\"/home/owzar001/CURRENT/summercourse-2015/Data/sampletable.txt\"\n",
    "cntdir=\"/home/owzar001/CURRENT/summercourse-2015/Data/COUNTS\""
   ]
  },
  {
   "cell_type": "code",
   "execution_count": 18,
   "metadata": {
    "collapsed": false
   },
   "outputs": [
    {
     "data": {
      "text/html": [
       "<strong>/home/owzar001/CURRENT/summercourse-2015/Data/sampletable.txt:</strong> '10cdaaa6e5fc76ab92b6d845d33a2a2f'"
      ],
      "text/latex": [
       "\\textbf{/home/owzar001/CURRENT/summercourse-2015/Data/sampletable.txt:} '10cdaaa6e5fc76ab92b6d845d33a2a2f'"
      ],
      "text/markdown": [
       "**/home/owzar001/CURRENT/summercourse-2015/Data/sampletable.txt:** '10cdaaa6e5fc76ab92b6d845d33a2a2f'"
      ],
      "text/plain": [
       "/home/owzar001/CURRENT/summercourse-2015/Data/sampletable.txt \n",
       "                           \"10cdaaa6e5fc76ab92b6d845d33a2a2f\" "
      ]
     },
     "execution_count": 18,
     "metadata": {},
     "output_type": "execute_result"
    }
   ],
   "source": [
    "md5sum(phfile)\n",
    "phdata=read.table(phfile,sep=\",\",stringsAsFactor=FALSE)"
   ]
  },
  {
   "cell_type": "code",
   "execution_count": 19,
   "metadata": {
    "collapsed": false
   },
   "outputs": [
    {
     "data": {
      "text/html": [
       "<table>\n",
       "<thead><tr><th></th><th scope=col>filename</th><th scope=col>sampid</th><th scope=col>trt</th><th scope=col>md5sum</th></tr></thead>\n",
       "<tbody>\n",
       "\t<tr><th scope=row>1</th><td>AGTCAA_counts.tsv</td><td>AGTCAA</td><td>0</td><td>a9eaa959aba1b02b3831583c2a9751c8</td></tr>\n",
       "\t<tr><th scope=row>2</th><td>AGTTCC_counts.tsv</td><td>AGTTCC</td><td>0</td><td>4183767e4eeb75dc582bcf438af13500</td></tr>\n",
       "\t<tr><th scope=row>3</th><td>ATGTCA_counts.tsv</td><td>ATGTCA</td><td>0</td><td>26fbba06520758e5a3acd9bd432ebed4</td></tr>\n",
       "\t<tr><th scope=row>4</th><td>CCGTCC_counts.tsv</td><td>CCGTCC</td><td>1</td><td>50036a88fd48645f740a31f4f4352cfb</td></tr>\n",
       "\t<tr><th scope=row>5</th><td>GTCCGC_counts.tsv</td><td>GTCCGC</td><td>1</td><td>bb1cecd886127159157e9431d072cad5</td></tr>\n",
       "\t<tr><th scope=row>6</th><td>GTGAAA_counts.tsv</td><td>GTGAAA</td><td>1</td><td>fa544c0a076eedb54937c7189f4e1fbc</td></tr>\n",
       "</tbody>\n",
       "</table>\n"
      ],
      "text/latex": [
       "\\begin{tabular}{r|llll}\n",
       "  & filename & sampid & trt & md5sum\\\\\n",
       "\\hline\n",
       "\t1 & AGTCAA_counts.tsv & AGTCAA & 0 & a9eaa959aba1b02b3831583c2a9751c8\\\\\n",
       "\t2 & AGTTCC_counts.tsv & AGTTCC & 0 & 4183767e4eeb75dc582bcf438af13500\\\\\n",
       "\t3 & ATGTCA_counts.tsv & ATGTCA & 0 & 26fbba06520758e5a3acd9bd432ebed4\\\\\n",
       "\t4 & CCGTCC_counts.tsv & CCGTCC & 1 & 50036a88fd48645f740a31f4f4352cfb\\\\\n",
       "\t5 & GTCCGC_counts.tsv & GTCCGC & 1 & bb1cecd886127159157e9431d072cad5\\\\\n",
       "\t6 & GTGAAA_counts.tsv & GTGAAA & 1 & fa544c0a076eedb54937c7189f4e1fbc\\\\\n",
       "\\end{tabular}\n"
      ],
      "text/plain": [
       "           filename sampid trt                           md5sum\n",
       "1 AGTCAA_counts.tsv AGTCAA   0 a9eaa959aba1b02b3831583c2a9751c8\n",
       "2 AGTTCC_counts.tsv AGTTCC   0 4183767e4eeb75dc582bcf438af13500\n",
       "3 ATGTCA_counts.tsv ATGTCA   0 26fbba06520758e5a3acd9bd432ebed4\n",
       "4 CCGTCC_counts.tsv CCGTCC   1 50036a88fd48645f740a31f4f4352cfb\n",
       "5 GTCCGC_counts.tsv GTCCGC   1 bb1cecd886127159157e9431d072cad5\n",
       "6 GTGAAA_counts.tsv GTGAAA   1 fa544c0a076eedb54937c7189f4e1fbc"
      ]
     },
     "execution_count": 19,
     "metadata": {},
     "output_type": "execute_result"
    }
   ],
   "source": [
    "colnames(phdata)=c(\"filename\",\"sampid\",\"trt\")\n",
    "phdata[[\"md5sum\"]]=md5sum(file.path(cntdir,phdata[[\"filename\"]]))\n",
    "phdata"
   ]
  },
  {
   "cell_type": "code",
   "execution_count": 20,
   "metadata": {
    "collapsed": false
   },
   "outputs": [
    {
     "data": {
      "text/html": [
       "<table>\n",
       "<thead><tr><th></th><th scope=col>sampid</th><th scope=col>filename</th><th scope=col>trt</th><th scope=col>md5sum</th></tr></thead>\n",
       "<tbody>\n",
       "\t<tr><th scope=row>1</th><td>AGTCAA</td><td>AGTCAA_counts.tsv</td><td>0</td><td>a9eaa959aba1b02b3831583c2a9751c8</td></tr>\n",
       "\t<tr><th scope=row>2</th><td>AGTTCC</td><td>AGTTCC_counts.tsv</td><td>0</td><td>4183767e4eeb75dc582bcf438af13500</td></tr>\n",
       "\t<tr><th scope=row>3</th><td>ATGTCA</td><td>ATGTCA_counts.tsv</td><td>0</td><td>26fbba06520758e5a3acd9bd432ebed4</td></tr>\n",
       "\t<tr><th scope=row>4</th><td>CCGTCC</td><td>CCGTCC_counts.tsv</td><td>1</td><td>50036a88fd48645f740a31f4f4352cfb</td></tr>\n",
       "\t<tr><th scope=row>5</th><td>GTCCGC</td><td>GTCCGC_counts.tsv</td><td>1</td><td>bb1cecd886127159157e9431d072cad5</td></tr>\n",
       "\t<tr><th scope=row>6</th><td>GTGAAA</td><td>GTGAAA_counts.tsv</td><td>1</td><td>fa544c0a076eedb54937c7189f4e1fbc</td></tr>\n",
       "</tbody>\n",
       "</table>\n"
      ],
      "text/latex": [
       "\\begin{tabular}{r|llll}\n",
       "  & sampid & filename & trt & md5sum\\\\\n",
       "\\hline\n",
       "\t1 & AGTCAA & AGTCAA_counts.tsv & 0 & a9eaa959aba1b02b3831583c2a9751c8\\\\\n",
       "\t2 & AGTTCC & AGTTCC_counts.tsv & 0 & 4183767e4eeb75dc582bcf438af13500\\\\\n",
       "\t3 & ATGTCA & ATGTCA_counts.tsv & 0 & 26fbba06520758e5a3acd9bd432ebed4\\\\\n",
       "\t4 & CCGTCC & CCGTCC_counts.tsv & 1 & 50036a88fd48645f740a31f4f4352cfb\\\\\n",
       "\t5 & GTCCGC & GTCCGC_counts.tsv & 1 & bb1cecd886127159157e9431d072cad5\\\\\n",
       "\t6 & GTGAAA & GTGAAA_counts.tsv & 1 & fa544c0a076eedb54937c7189f4e1fbc\\\\\n",
       "\\end{tabular}\n"
      ],
      "text/plain": [
       "  sampid          filename trt                           md5sum\n",
       "1 AGTCAA AGTCAA_counts.tsv   0 a9eaa959aba1b02b3831583c2a9751c8\n",
       "2 AGTTCC AGTTCC_counts.tsv   0 4183767e4eeb75dc582bcf438af13500\n",
       "3 ATGTCA ATGTCA_counts.tsv   0 26fbba06520758e5a3acd9bd432ebed4\n",
       "4 CCGTCC CCGTCC_counts.tsv   1 50036a88fd48645f740a31f4f4352cfb\n",
       "5 GTCCGC GTCCGC_counts.tsv   1 bb1cecd886127159157e9431d072cad5\n",
       "6 GTGAAA GTGAAA_counts.tsv   1 fa544c0a076eedb54937c7189f4e1fbc"
      ]
     },
     "execution_count": 20,
     "metadata": {},
     "output_type": "execute_result"
    }
   ],
   "source": [
    "phdata=phdata[c(\"sampid\",\"filename\",\"trt\",\"md5sum\")]\n",
    "phdata"
   ]
  },
  {
   "cell_type": "code",
   "execution_count": 21,
   "metadata": {
    "collapsed": true
   },
   "outputs": [],
   "source": [
    "phdata[[\"trt\"]]=as.factor(phdata[[\"trt\"]])"
   ]
  },
  {
   "cell_type": "markdown",
   "metadata": {},
   "source": [
    "This function reads the data from one file and returns the results as a matrix. It is designed to only keep the rows for which the gene id starts with the prefix \"GeneID\""
   ]
  },
  {
   "cell_type": "code",
   "execution_count": 7,
   "metadata": {
    "collapsed": true
   },
   "outputs": [],
   "source": [
    "readcnts=function(fname,sep=\"\\t\",prefix=\"GeneID\",collab=\"V1\",header=FALSE)\n",
    "    {\n",
    "        ### Import text file\n",
    "        dat=read.table(fname,sep=sep,header=header,stringsAsFactor=FALSE)\n",
    "        ### Only keep rows for which the gene id matches with the prefix\n",
    "        dat=dat[substr(dat[[collab]],1,nchar(prefix))==prefix,]\n",
    "        return(dat)\n",
    "    }\n"
   ]
  },
  {
   "cell_type": "markdown",
   "metadata": {},
   "source": [
    "Let's read in a file"
   ]
  },
  {
   "cell_type": "code",
   "execution_count": 22,
   "metadata": {
    "collapsed": true
   },
   "outputs": [],
   "source": [
    "file1=readcnts(\"/home/owzar001/CURRENT/summercourse-2015/Data/COUNTS/AGTCAA_counts.tsv\")"
   ]
  },
  {
   "cell_type": "code",
   "execution_count": 23,
   "metadata": {
    "collapsed": false
   },
   "outputs": [
    {
     "data": {
      "text/html": [
       "<ol class=list-inline>\n",
       "\t<li>4436</li>\n",
       "\t<li>2</li>\n",
       "</ol>\n"
      ],
      "text/latex": [
       "\\begin{enumerate*}\n",
       "\\item 4436\n",
       "\\item 2\n",
       "\\end{enumerate*}\n"
      ],
      "text/markdown": [
       "1. 4436\n",
       "2. 2\n",
       "\n",
       "\n"
      ],
      "text/plain": [
       "[1] 4436    2"
      ]
     },
     "execution_count": 23,
     "metadata": {},
     "output_type": "execute_result"
    }
   ],
   "source": [
    "dim(file1)"
   ]
  },
  {
   "cell_type": "code",
   "execution_count": 24,
   "metadata": {
    "collapsed": false
   },
   "outputs": [
    {
     "data": {
      "text/html": [
       "<table>\n",
       "<thead><tr><th></th><th scope=col>V1</th><th scope=col>V2</th></tr></thead>\n",
       "<tbody>\n",
       "\t<tr><th scope=row>1</th><td>GeneID:12930114</td><td>118</td></tr>\n",
       "\t<tr><th scope=row>2</th><td>GeneID:12930115</td><td>30</td></tr>\n",
       "\t<tr><th scope=row>3</th><td>GeneID:12930116</td><td>15</td></tr>\n",
       "\t<tr><th scope=row>4</th><td>GeneID:12930117</td><td>12</td></tr>\n",
       "\t<tr><th scope=row>5</th><td>GeneID:12930118</td><td>122</td></tr>\n",
       "\t<tr><th scope=row>6</th><td>GeneID:12930119</td><td>60</td></tr>\n",
       "</tbody>\n",
       "</table>\n"
      ],
      "text/latex": [
       "\\begin{tabular}{r|ll}\n",
       "  & V1 & V2\\\\\n",
       "\\hline\n",
       "\t1 & GeneID:12930114 & 118\\\\\n",
       "\t2 & GeneID:12930115 & 30\\\\\n",
       "\t3 & GeneID:12930116 & 15\\\\\n",
       "\t4 & GeneID:12930117 & 12\\\\\n",
       "\t5 & GeneID:12930118 & 122\\\\\n",
       "\t6 & GeneID:12930119 & 60\\\\\n",
       "\\end{tabular}\n"
      ],
      "text/plain": [
       "               V1  V2\n",
       "1 GeneID:12930114 118\n",
       "2 GeneID:12930115  30\n",
       "3 GeneID:12930116  15\n",
       "4 GeneID:12930117  12\n",
       "5 GeneID:12930118 122\n",
       "6 GeneID:12930119  60"
      ]
     },
     "execution_count": 24,
     "metadata": {},
     "output_type": "execute_result"
    }
   ],
   "source": [
    "head(file1)"
   ]
  },
  {
   "cell_type": "markdown",
   "metadata": {},
   "source": [
    "Now read in all files "
   ]
  },
  {
   "cell_type": "code",
   "execution_count": 25,
   "metadata": {
    "collapsed": false
   },
   "outputs": [],
   "source": [
    "## Read in the first file\n",
    "countdat=readcnts(file.path(cntdir,phdata$filename[1]))\n",
    "### Assign the sample id as the column name\n",
    "names(countdat)[2]=phdata$sampid[1]\n",
    "### Repeat the last two steps for files 2 ... 6 and merge\n",
    "### along each step\n",
    "for(i in 2:nrow(phdata))\n",
    "    {\n",
    "        dat2=readcnts(file.path(cntdir,phdata$filename[i]))\n",
    "        names(dat2)[2]=phdata$sampid[i]\n",
    "        countdat=merge(countdat,dat2,by=\"V1\")\n",
    "    }\n",
    "\n",
    "geneid=countdat$V1\n",
    "countdat=as.matrix(countdat[,-1])\n",
    "row.names(countdat)=geneid"
   ]
  },
  {
   "cell_type": "code",
   "execution_count": 26,
   "metadata": {
    "collapsed": false
   },
   "outputs": [
    {
     "data": {
      "text/html": [
       "<table>\n",
       "<thead><tr><th></th><th scope=col>AGTCAA</th><th scope=col>AGTTCC</th><th scope=col>ATGTCA</th><th scope=col>CCGTCC</th><th scope=col>GTCCGC</th><th scope=col>GTGAAA</th></tr></thead>\n",
       "<tbody>\n",
       "\t<tr><th scope=row>GeneID:12930114</th><td>118</td><td>137</td><td>149</td><td>120</td><td>161</td><td>174</td></tr>\n",
       "\t<tr><th scope=row>GeneID:12930115</th><td>30</td><td>42</td><td>25</td><td>18</td><td>32</td><td>34</td></tr>\n",
       "\t<tr><th scope=row>GeneID:12930116</th><td>15</td><td>55</td><td>37</td><td>49</td><td>36</td><td>27</td></tr>\n",
       "\t<tr><th scope=row>GeneID:12930117</th><td>12</td><td>12</td><td>13</td><td>11</td><td> 7</td><td> 6</td></tr>\n",
       "\t<tr><th scope=row>GeneID:12930118</th><td>122</td><td>137</td><td> 94</td><td> 48</td><td>131</td><td> 69</td></tr>\n",
       "\t<tr><th scope=row>GeneID:12930119</th><td>60</td><td>88</td><td>78</td><td>53</td><td>43</td><td>29</td></tr>\n",
       "</tbody>\n",
       "</table>\n"
      ],
      "text/latex": [
       "\\begin{tabular}{r|llllll}\n",
       "  & AGTCAA & AGTTCC & ATGTCA & CCGTCC & GTCCGC & GTGAAA\\\\\n",
       "\\hline\n",
       "\tGeneID:12930114 & 118 & 137 & 149 & 120 & 161 & 174\\\\\n",
       "\tGeneID:12930115 & 30 & 42 & 25 & 18 & 32 & 34\\\\\n",
       "\tGeneID:12930116 & 15 & 55 & 37 & 49 & 36 & 27\\\\\n",
       "\tGeneID:12930117 & 12 & 12 & 13 & 11 &  7 &  6\\\\\n",
       "\tGeneID:12930118 & 122 & 137 &  94 &  48 & 131 &  69\\\\\n",
       "\tGeneID:12930119 & 60 & 88 & 78 & 53 & 43 & 29\\\\\n",
       "\\end{tabular}\n"
      ],
      "text/markdown": [
       "1. 118\n",
       "2. 30\n",
       "3. 15\n",
       "4. 12\n",
       "5. 122\n",
       "6. 60\n",
       "7. 137\n",
       "8. 42\n",
       "9. 55\n",
       "10. 12\n",
       "11. 137\n",
       "12. 88\n",
       "13. 149\n",
       "14. 25\n",
       "15. 37\n",
       "16. 13\n",
       "17. 94\n",
       "18. 78\n",
       "19. 120\n",
       "20. 18\n",
       "21. 49\n",
       "22. 11\n",
       "23. 48\n",
       "24. 53\n",
       "25. 161\n",
       "26. 32\n",
       "27. 36\n",
       "28. 7\n",
       "29. 131\n",
       "30. 43\n",
       "31. 174\n",
       "32. 34\n",
       "33. 27\n",
       "34. 6\n",
       "35. 69\n",
       "36. 29\n",
       "\n",
       "\n"
      ],
      "text/plain": [
       "                AGTCAA AGTTCC ATGTCA CCGTCC GTCCGC GTGAAA\n",
       "GeneID:12930114    118    137    149    120    161    174\n",
       "GeneID:12930115     30     42     25     18     32     34\n",
       "GeneID:12930116     15     55     37     49     36     27\n",
       "GeneID:12930117     12     12     13     11      7      6\n",
       "GeneID:12930118    122    137     94     48    131     69\n",
       "GeneID:12930119     60     88     78     53     43     29"
      ]
     },
     "execution_count": 26,
     "metadata": {},
     "output_type": "execute_result"
    }
   ],
   "source": [
    "head(countdat)"
   ]
  },
  {
   "cell_type": "code",
   "execution_count": 27,
   "metadata": {
    "collapsed": false
   },
   "outputs": [
    {
     "name": "stderr",
     "output_type": "stream",
     "text": [
      "Loading required package: S4Vectors\n",
      "Loading required package: stats4\n",
      "Loading required package: BiocGenerics\n",
      "Loading required package: parallel\n",
      "\n",
      "Attaching package: ‘BiocGenerics’\n",
      "\n",
      "The following objects are masked from ‘package:parallel’:\n",
      "\n",
      "    clusterApply, clusterApplyLB, clusterCall, clusterEvalQ,\n",
      "    clusterExport, clusterMap, parApply, parCapply, parLapply,\n",
      "    parLapplyLB, parRapply, parSapply, parSapplyLB\n",
      "\n",
      "The following object is masked from ‘package:stats’:\n",
      "\n",
      "    xtabs\n",
      "\n",
      "The following objects are masked from ‘package:base’:\n",
      "\n",
      "    anyDuplicated, append, as.data.frame, as.vector, cbind, colnames,\n",
      "    do.call, duplicated, eval, evalq, Filter, Find, get, intersect,\n",
      "    is.unsorted, lapply, Map, mapply, match, mget, order, paste, pmax,\n",
      "    pmax.int, pmin, pmin.int, Position, rank, rbind, Reduce, rep.int,\n",
      "    rownames, sapply, setdiff, sort, table, tapply, union, unique,\n",
      "    unlist, unsplit\n",
      "\n",
      "Creating a generic function for ‘nchar’ from package ‘base’ in package ‘S4Vectors’\n",
      "Loading required package: IRanges\n",
      "Loading required package: GenomicRanges\n",
      "Loading required package: GenomeInfoDb\n",
      "Loading required package: Rcpp\n",
      "Loading required package: RcppArmadillo\n"
     ]
    }
   ],
   "source": [
    "library(DESeq2)"
   ]
  },
  {
   "cell_type": "code",
   "execution_count": 28,
   "metadata": {
    "collapsed": false
   },
   "outputs": [],
   "source": [
    "dds=DESeqDataSetFromMatrix(countdat,DataFrame(phdata),design=~trt)"
   ]
  },
  {
   "cell_type": "code",
   "execution_count": 29,
   "metadata": {
    "collapsed": false
   },
   "outputs": [
    {
     "data": {
      "text/plain": [
       "class: DESeqDataSet \n",
       "dim: 4436 6 \n",
       "exptData(0):\n",
       "assays(1): counts\n",
       "rownames(4436): GeneID:12930114 GeneID:12930115 ... GeneID:13406005\n",
       "  GeneID:13406006\n",
       "rowRanges metadata column names(0):\n",
       "colnames(6): AGTCAA AGTTCC ... GTCCGC GTGAAA\n",
       "colData names(4): sampid filename trt md5sum"
      ]
     },
     "execution_count": 29,
     "metadata": {},
     "output_type": "execute_result"
    }
   ],
   "source": [
    "dds"
   ]
  },
  {
   "cell_type": "code",
   "execution_count": 23,
   "metadata": {
    "collapsed": false
   },
   "outputs": [
    {
     "data": {
      "text/plain": [
       "R version 3.2.1 (2015-06-18)\n",
       "Platform: x86_64-pc-linux-gnu (64-bit)\n",
       "Running under: Debian GNU/Linux 8 (jessie)\n",
       "\n",
       "locale:\n",
       " [1] LC_CTYPE=en_US.UTF-8       LC_NUMERIC=C              \n",
       " [3] LC_TIME=en_US.UTF-8        LC_COLLATE=en_US.UTF-8    \n",
       " [5] LC_MONETARY=en_US.UTF-8    LC_MESSAGES=en_US.UTF-8   \n",
       " [7] LC_PAPER=en_US.UTF-8       LC_NAME=C                 \n",
       " [9] LC_ADDRESS=C               LC_TELEPHONE=C            \n",
       "[11] LC_MEASUREMENT=en_US.UTF-8 LC_IDENTIFICATION=C       \n",
       "\n",
       "attached base packages:\n",
       " [1] parallel  stats4    tools     stats     graphics  grDevices utils    \n",
       " [8] datasets  methods   base     \n",
       "\n",
       "other attached packages:\n",
       "[1] DESeq2_1.8.1              RcppArmadillo_0.5.200.1.0\n",
       "[3] Rcpp_0.11.6               GenomicRanges_1.20.5     \n",
       "[5] GenomeInfoDb_1.4.1        IRanges_2.2.5            \n",
       "[7] S4Vectors_0.6.2           BiocGenerics_0.14.0      \n",
       "\n",
       "loaded via a namespace (and not attached):\n",
       " [1] RColorBrewer_1.1-2   futile.logger_1.4.1  plyr_1.8.3          \n",
       " [4] XVector_0.8.0        futile.options_1.0.0 base64enc_0.1-3     \n",
       " [7] rpart_4.1-9          digest_0.6.8         uuid_0.1-2          \n",
       "[10] RSQLite_1.0.0        annotate_1.46.1      lattice_0.20-31     \n",
       "[13] jsonlite_0.9.16      evaluate_0.7         gtable_0.1.2        \n",
       "[16] DBI_0.3.1            IRdisplay_0.3        IRkernel_0.4        \n",
       "[19] proto_0.3-10         gridExtra_2.0.0      rzmq_0.7.7          \n",
       "[22] genefilter_1.50.0    cluster_2.0.1        repr_0.3            \n",
       "[25] stringr_1.0.0        locfit_1.5-9.1       nnet_7.3-9          \n",
       "[28] grid_3.2.1           Biobase_2.28.0       AnnotationDbi_1.30.1\n",
       "[31] XML_3.98-1.3         survival_2.38-2      BiocParallel_1.2.9  \n",
       "[34] foreign_0.8-63       latticeExtra_0.6-26  Formula_1.2-1       \n",
       "[37] geneplotter_1.46.0   ggplot2_1.0.1        reshape2_1.4.1      \n",
       "[40] lambda.r_1.1.7       magrittr_1.5         splines_3.2.1       \n",
       "[43] scales_0.2.5         Hmisc_3.16-0         MASS_7.3-40         \n",
       "[46] xtable_1.7-4         colorspace_1.2-6     stringi_0.5-5       \n",
       "[49] acepack_1.3-3.3      munsell_0.4.2       "
      ]
     },
     "execution_count": 23,
     "metadata": {},
     "output_type": "execute_result"
    }
   ],
   "source": [
    "sessionInfo()"
   ]
  },
  {
   "cell_type": "code",
   "execution_count": null,
   "metadata": {
    "collapsed": true
   },
   "outputs": [],
   "source": []
  }
 ],
 "metadata": {
  "kernelspec": {
   "display_name": "R",
   "language": "R",
   "name": "ir"
  },
  "language_info": {
   "codemirror_mode": "r",
   "file_extension": ".r",
   "mimetype": "text/x-r-source",
   "name": "R",
   "pygments_lexer": "r",
   "version": "3.2.1"
  }
 },
 "nbformat": 4,
 "nbformat_minor": 0
}
