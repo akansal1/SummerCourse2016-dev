{
 "cells": [
  {
   "cell_type": "markdown",
   "metadata": {},
   "source": [
    "#Getting started\n",
    "Let's be sure that we are in our working directory . . ."
   ]
  },
  {
   "cell_type": "code",
   "execution_count": null,
   "metadata": {
    "collapsed": false
   },
   "outputs": [],
   "source": [
    "cd ~/bioinf_1"
   ]
  },
  {
   "cell_type": "markdown",
   "metadata": {},
   "source": [
    "#One Last Thing\n",
    "We don't actually need to tell the computer what the barcodes are . . . if we are smart we can just tell the computer how to figure out the barcodes.  Using this has pluses and minuses - it is less work, and fewer changes if we run on different samples, but if we explicitly tell the pipeline what the barcodes are, we might be less likely to make a mistake."
   ]
  },
  {
   "cell_type": "code",
   "execution_count": null,
   "metadata": {
    "collapsed": false
   },
   "outputs": [],
   "source": [
    "%%bash\n",
    "IFS=\".\"\n",
    "for R1 in fastqs/r1.*.fastq.gz\n",
    "    do\n",
    "        set $R1\n",
    "        BARCODE=$2\n",
    "        echo $BARCODE\n",
    "    done\n",
    "unset IFS"
   ]
  },
  {
   "cell_type": "markdown",
   "metadata": {},
   "source": [
    "#Software Downloads\n",
    "We need two pieces of software for visualizing reads on our laptops: \n",
    "\n",
    "* Integrative Genomics Viewer (IGV)\n",
    "* Cyberduck\n",
    "\n",
    "See instructions below for the type of computer you are using.\n",
    "\n",
    "## OS X (Macs)\n",
    "* SFTP: You have a commandline version of SFTP built in, but often a GUI version is more convenient.  We will be using [Cyberduck](https://cyberduck.io/).\n",
    "* IGV: You can download [a Mac only version]](http://data.broadinstitute.org/igv/projects/downloads/IGV_2.3.59.app.zip) or [a cross-platform version](http://data.broadinstitute.org/igv/projects/downloads/IGV_2.3.59.zip)\n",
    "## Windows\n",
    "* SFTP: Most SSH clients also support SFTP, but it is hard to beat [Cyberduck](https://cyberduck.io/) for user friendliness, this is what we will use.\n",
    "* IGV: Download the [cross-platform version](http://data.broadinstitute.org/igv/projects/downloads/IGV_2.3.59.zip).\n",
    "## Linux\n",
    "You almost certainly have an SFTP clients installed, and if you are bringing a Linux computer to the workshop, I assume you know how to use it.\n",
    "* IGV: Download the [cross-platform version](http://data.broadinstitute.org/igv/projects/downloads/IGV_2.3.59.zip). "
   ]
  },
  {
   "cell_type": "markdown",
   "metadata": {},
   "source": [
    "#Visualization\n",
    "In order to visualize reads, we need to download data (a BAM file and its index) to our laptops.  We will also need the genome sequence, and ideally the annoation.\n",
    "\n",
    "#Data Transfer\n",
    "An excellent option for moving files between your VM and your laptop is sftp.  A few GUI sftp clients are:\n",
    "\n",
    "* Cyberduck https://cyberduck.io/ \n",
    "* FileZilla https://filezilla-project.org/\n",
    "* Fugu (mac only) http://sourceforge.net/projects/fugussh/files/\n",
    "\n",
    "We will use Cyberduck because it is free, cross-platform, and pretty user friendly.\n",
    "## Transfering Data with Cyberduck\n",
    "1. Open Cyberduck\n",
    "2. Click \"Open Connection\"\n",
    "3. Select \"SFTP\" in the pulldown menu\n",
    "4. Fill in the following boxes using information from the VM-Manage \"Virtual Machine Management Panel\"\n",
    "    * \"Server:\" put the Full Name of your VM\n",
    "    * \"Username:\" bitnami\n",
    "    * \"Password:\" Initial Password\n",
    "5. You should now see the directory from your VM in Cyberduck. Find the th_out directory, and drag one or more BAM files to your desktop, along with the matching BAI file.\n",
    "6. You will also need to download the genome sequence and annotation from your VM.  You could download from NCBI, but remember it is important to be consistent in the reference sequence and annotation you use.\n",
    "\n",
    "#Visualization, continued\n",
    "It is often helpful to use visualization software to interact with an assembly.  We will be using Integrative Genomics Viewer (IGV) because it is pretty good, somewhat user friendly, and cross-platform.\n",
    "\n",
    "## Run IGV\n",
    "\n",
    "If you downloaded the Mac specific version], just double click.  If you have the cross-platform version: unzip the binary distribution archive in a folder of your choosing. IGV is launched from a command prompt: follow instructions in the \"readme\" file. To launch igv on Mac or Linux platforms use the shell script \"igv.sh\". On Windows use \"igv.bat\".\n",
    "\n",
    "## Load Files\n",
    "\n",
    "Once IGV is running do the following within IGV:\n",
    "1. **Genome Sequence:** Genomes->Load Genome From File: ../bioinf_1/genome/ecoli_w3110.fa\n",
    "2. **Annotation:** File->Load From File: ../bioinf_1/genome/ecoli_w3110.gff\n",
    "3. **Bamfile:** File->Load From File: (whatever BAM file you downloaded)\n",
    "\n",
    "## Configuring\n",
    "\n",
    "1.  Zoom in until reads are visible\n",
    "2.  right click->Collapsed\n",
    "3.  right click->View as pairs\n",
    "\n",
    "## Look around!\n",
    "\n",
    "A few things to look for:\n",
    "- read strand relative to annotated gene strand\n",
    "- SNPs\n",
    "- Areas with no reads\n",
    "- Coverage depth plot\n",
    "- antisense reads\n",
    "- non-protein-coding RNAs"
   ]
  }
 ],
 "metadata": {
  "kernelspec": {
   "display_name": "Python 2",
   "language": "python",
   "name": "python2"
  },
  "language_info": {
   "codemirror_mode": {
    "name": "ipython",
    "version": 2
   },
   "file_extension": ".py",
   "mimetype": "text/x-python",
   "name": "python",
   "nbconvert_exporter": "python",
   "pygments_lexer": "ipython2",
   "version": "2.7.10"
  }
 },
 "nbformat": 4,
 "nbformat_minor": 0
}
